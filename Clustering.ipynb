{
 "cells": [
  {
   "cell_type": "code",
   "execution_count": 1,
   "metadata": {},
   "outputs": [],
   "source": [
    "import numpy as np\n",
    "import pandas as pd\n",
    "from sklearn.cluster import MeanShift, estimate_bandwidth\n",
    "from sklearn.cluster import KMeans\n",
    "from matplotlib import pyplot as pt"
   ]
  },
  {
   "cell_type": "code",
   "execution_count": 7,
   "metadata": {},
   "outputs": [],
   "source": [
    "#I'm assuming first row will be meaningless. If it's not, then remove the skiprow argument\n",
    "sampleswithlatentvars = pd.read_csv(\"latent_var_data_final.csv\", names=[\"Latent Var {}\".format(i) for i in range(5)], skiprows=1)"
   ]
  },
  {
   "cell_type": "code",
   "execution_count": 8,
   "metadata": {},
   "outputs": [
    {
     "name": "stdout",
     "output_type": "stream",
     "text": [
      "Any null values?  False\n",
      "-25.861591339111328\n"
     ]
    }
   ],
   "source": [
    "print(\"Any null values? \", sampleswithlatentvars.isnull().values.any())\n",
    "print(np.min(sampleswithlatentvars['Latent Var 4']))"
   ]
  },
  {
   "cell_type": "code",
   "execution_count": 9,
   "metadata": {},
   "outputs": [
    {
     "name": "stdout",
     "output_type": "stream",
     "text": [
      "SKLearn's estimate for bandwidth:  21.870385203760165\n"
     ]
    }
   ],
   "source": [
    "print(\"SKLearn's estimate for bandwidth: \",estimate_bandwidth(sampleswithlatentvars))"
   ]
  },
  {
   "cell_type": "code",
   "execution_count": 10,
   "metadata": {},
   "outputs": [
    {
     "data": {
      "image/png": "[encoded data removed]",
      "text/plain": [
       "<Figure size 432x288 with 1 Axes>"
      ]
     },
     "metadata": {
      "needs_background": "light"
     },
     "output_type": "display_data"
    },
    {
     "data": {
      "image/png": "[encoded data removed]",
      "text/plain": [
       "<Figure size 432x288 with 1 Axes>"
      ]
     },
     "metadata": {
      "needs_background": "light"
     },
     "output_type": "display_data"
    },
    {
     "data": {
      "image/png": "[encoded data removed]",
      "text/plain": [
       "<Figure size 432x288 with 1 Axes>"
      ]
     },
     "metadata": {
      "needs_background": "light"
     },
     "output_type": "display_data"
    }
   ],
   "source": [
    "'''\n",
    "Picking some random pair wise latent variabels to see if any clusters emerge\n",
    "Maybe there's a way to identify which pair wise variables will show clusters (in 2-D)?\n",
    "'''\n",
    "\n",
    "pt.scatter(sampleswithlatentvars.iloc[:,0], sampleswithlatentvars.iloc[:,1])\n",
    "pt.show()\n",
    "\n",
    "pt.scatter(sampleswithlatentvars.iloc[:,2], sampleswithlatentvars.iloc[:,3], color='red')\n",
    "pt.show()\n",
    "\n",
    "pt.scatter(sampleswithlatentvars.iloc[:,4], sampleswithlatentvars.iloc[:,3], color='green')\n",
    "pt.show()"
   ]
  },
  {
   "cell_type": "code",
   "execution_count": 11,
   "metadata": {},
   "outputs": [
    {
     "data": {
      "text/plain": [
       "MeanShift(bandwidth=18, bin_seeding=False, cluster_all=True, min_bin_freq=1,\n",
       "          n_jobs=None, seeds=None)"
      ]
     },
     "execution_count": 11,
     "metadata": {},
     "output_type": "execute_result"
    }
   ],
   "source": [
    "'''\n",
    "SKlearn uses a method to estimate the bandwidth and uses it as the default. As printed above, it comes out to 21.\n",
    "So I chose an arbitrary number below 21 , since a value of 21 was creating just 1 cluster.\n",
    "Maybe 1 cluster is the best clustering for given data. I just want to show the trend as you decrease bandwidth.\n",
    "From online reading, it seems you need some domain knowledge/ experience for choosing the right size for this.\n",
    "\n",
    "Maybe we can calculate total variance in each cluster, for each bandwidth, \n",
    "and choose a value that minimizes that.\n",
    "\n",
    "Definitely the area that we should explore next\n",
    "'''\n",
    "ms = MeanShift(bandwidth = 18)\n",
    "ms.fit(sampleswithlatentvars)"
   ]
  },
  {
   "cell_type": "code",
   "execution_count": 12,
   "metadata": {},
   "outputs": [],
   "source": [
    "cluster_centers = ms.cluster_centers_\n",
    "labels = ms.labels_"
   ]
  },
  {
   "cell_type": "code",
   "execution_count": 17,
   "metadata": {},
   "outputs": [
    {
     "name": "stdout",
     "output_type": "stream",
     "text": [
      "[1 1 1 1 1 1 1 1 1 1 1 1 2 2 1 1 1 1 2 2 2 2 4 1 1 2 1 1 2 2 2 0 0 0 0 0 0\n",
      " 0 0 0 0 0 0 0 0 0 3 0 0 0 0 0 0 0 0 0 0 0 0 0 0 0 0 0 0 0 0 0 0 0 3 0 0 0\n",
      " 0 0 3 0 0 0 0 0 0 0 0 0 0 0 0 0 0 0 0 0 0 0 0 0 0 0 0 0 0 4 4 0 3 0 0 0 0\n",
      " 0 4 0 0 0 0 4 0 0 0 0 0 0 0 0 0 0 0 3 0 0 0 4 0 0 0 0 0 0 0 0 0 3 3 0 0 0\n",
      " 0 0 0 3 4 0 0 0 0 0 0 0 2 0 0 0 0 0 0 0 0 0 0 0 0 0 0 0 0 0 0 0 0]\n",
      "[[ -0.43233746   1.85708319   0.65172359   0.64235338  -0.80618695]\n",
      " [-10.31590061  -7.14682196  -8.98211442   4.59033213  13.22676113]\n",
      " [  6.25453689 -17.17006369  -4.71349983 -11.15282049  15.45387225]\n",
      " [ 15.47696781 -19.32614326  -4.02200365 -21.43506432  -9.07552719]\n",
      " [-13.86597061 -14.35519123   9.19109535 -25.39149857  -2.81540418]]\n",
      "   Latent Var 0  Latent Var 1  Latent Var 2  Latent Var 3  Latent Var 4  \\\n",
      "0    -11.581592     -4.625837    -12.292809     11.706864      8.416257   \n",
      "1    -16.491993    -17.368090     -6.582067     13.396480     -1.263789   \n",
      "2    -17.783985     -6.874804    -15.522555     -0.432459      7.229824   \n",
      "3     -4.419697     -1.553187     -3.639313     24.052729     11.776086   \n",
      "4     -2.594368     -3.259372    -12.656079     12.344404     18.031582   \n",
      "5    -18.440298      1.658846    -11.961891     -4.834861     18.031492   \n",
      "6    -18.402248      0.281008     -5.688074      6.120968     20.026104   \n",
      "7    -11.278039     -2.288938    -13.779174      0.998333     22.461948   \n",
      "8     -9.928253     -3.884023     -7.054097     11.958364     22.882029   \n",
      "9    -15.061986    -13.593968     -7.720714     17.646862     12.251792   \n",
      "\n",
      "   clusters  \n",
      "0         1  \n",
      "1         1  \n",
      "2         1  \n",
      "3         1  \n",
      "4         1  \n",
      "5         1  \n",
      "6         1  \n",
      "7         1  \n",
      "8         1  \n",
      "9         1  \n"
     ]
    }
   ],
   "source": [
    "print(labels)\n",
    "print(cluster_centers)\n",
    "sampleswithlatentvars['clusters'] = labels\n",
    "print(sampleswithlatentvars.head(10))\n",
    "sampleswithlatentvars.to_csv('labeled_clusters.csv')"
   ]
  },
  {
   "cell_type": "code",
   "execution_count": 14,
   "metadata": {},
   "outputs": [
    {
     "data": {
      "image/png": "[encoded data removed]",
      "text/plain": [
       "<Figure size 432x288 with 1 Axes>"
      ]
     },
     "metadata": {
      "needs_background": "light"
     },
     "output_type": "display_data"
    }
   ],
   "source": [
    "'''\n",
    "The following script takes time if the MAXCLUSTERS value is high, like 180 (the max value).\n",
    "Commenting it out in case you want to run the whole script\n",
    "'''\n",
    "wcss = []\n",
    "MAXCLUSTERS = 180\n",
    "for i in range(1, MAXCLUSTERS):\n",
    "    kmeans = KMeans(n_clusters=i, init='k-means++', max_iter=300, n_init=10, random_state=0)\n",
    "    kmeans.fit(sampleswithlatentvars)\n",
    "    wcss.append(kmeans.inertia_)\n",
    "pt.plot(range(1, MAXCLUSTERS), wcss)\n",
    "pt.title('Elbow Method')\n",
    "pt.xlabel('Number of clusters')\n",
    "pt.ylabel('WCSS')\n",
    "pt.show()"
   ]
  },
  {
   "cell_type": "code",
   "execution_count": 15,
   "metadata": {},
   "outputs": [
    {
     "data": {
      "text/plain": [
       "\"\\nFrom the graph, when the number of clusters chosen is around 10, the rate of decrease of WCSS drops sharply,\\nwhich is the elbow point. That's considered a meaningful place to stop.\\n\\nNote, at a certain point, having more clusters is just meaningless. The extreme end of that is having as many\\nclusters as data points, which will WCSS of 0, but it's absolutely meaningless.\\n(The algorithm will converge to that if you let sufficient number of iterations)\\n\""
      ]
     },
     "execution_count": 15,
     "metadata": {},
     "output_type": "execute_result"
    }
   ],
   "source": [
    "'''\n",
    "From the graph, when the number of clusters chosen is around 10, the rate of decrease of WCSS drops sharply,\n",
    "which is the elbow point. That's considered a meaningful place to stop.\n",
    "\n",
    "Note, at a certain point, having more clusters is just meaningless. The extreme end of that is having as many\n",
    "clusters as data points, which will WCSS of 0, but it's absolutely meaningless.\n",
    "(The algorithm will converge to that if you let sufficient number of iterations)\n",
    "'''"
   ]
  }
 ],
 "metadata": {
  "kernelspec": {
   "display_name": "Python 3",
   "language": "python",
   "name": "python3"
  },
  "language_info": {
   "codemirror_mode": {
    "name": "ipython",
    "version": 3
   },
   "file_extension": ".py",
   "mimetype": "text/x-python",
   "name": "python",
   "nbconvert_exporter": "python",
   "pygments_lexer": "ipython3",
   "version": "3.7.3"
  }
 },
 "nbformat": 4,
 "nbformat_minor": 2
}
